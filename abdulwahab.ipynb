{
 "cells": [
  {
   "cell_type": "markdown",
   "metadata": {},
   "source": [
    "# The ABC company has hired you as an intern on the coding team that creates e-commerce applications.  \n",
    "You must write a script that asks the user for a value. The value must be used as a whole number in a calculation, even if the user enters a decimal value. \n",
    "\n",
    "You need to write the code to meet the requirements."
   ]
  },
  {
   "cell_type": "code",
   "execution_count": null,
   "metadata": {
    "scrolled": true
   },
   "outputs": [],
   "source": [
    "x=float(input(\"Total numbers of employees in company\"))\n",
    "print(\"The employees number in decimal = \",x)\n",
    "y=int(x)\n",
    "print(\"The employees number in integers or whole value\",y)\n"
   ]
  },
  {
   "cell_type": "markdown",
   "metadata": {},
   "source": [
    "# You are creating a Python program that shows a congratulation message to employees on their service anniversary.\n",
    "You need to calculate the number of years of service and print a congratulatory message. You should take the inputs from the users where necessary"
   ]
  },
  {
   "cell_type": "code",
   "execution_count": 8,
   "metadata": {},
   "outputs": [
    {
     "name": "stdout",
     "output_type": "stream",
     "text": [
      "Employee Name=Abdulwahab\n",
      "The Year of joining=2012\n",
      "The current year=2019\n",
      "Congratulations Abdulwahab for your working 7 year in this company\n"
     ]
    }
   ],
   "source": [
    "x=input(\"Employee Name=\")\n",
    "y=input(\"The Year of joining=\")\n",
    "z=input(\"The current year=\")\n",
    "a=int(z)-int(y)\n",
    "print(\"Congratulations\",x,\"for your working\",a,\"year in this company\")"
   ]
  },
  {
   "cell_type": "markdown",
   "metadata": {},
   "source": [
    "# Write a Python program to convert temperatures  from fahrenheit to celsius, \n",
    "#step 1: take \"fahrenheit Temperature\" from user in integer data type\n",
    "#step 2: apply formula that is       (  C = (5/9) * (fahrenheit_temperature - 32)  )\n",
    "#step 3: print step 2. "
   ]
  },
  {
   "cell_type": "code",
   "execution_count": 4,
   "metadata": {
    "scrolled": true
   },
   "outputs": [
    {
     "name": "stdout",
     "output_type": "stream",
     "text": [
      "Temperature in Fahrenheit =273\n",
      "Temperature in celsius= 133.88888888888889\n"
     ]
    }
   ],
   "source": [
    "x=int(input(\"Temperature in Fahrenheit =\"))\n",
    "c=(5/9)*(x-32)\n",
    "print(\"Temperature in celsius=\",c)"
   ]
  },
  {
   "cell_type": "markdown",
   "metadata": {},
   "source": [
    "<h3>assign a vlue to grade by checking the following conditions:: </h3>\n",
    "<h3>if % is greater then and equal to 90 and less then 100 grade is A+ </h3>\n",
    "<h3>if % is greater then and equal to 80 and less then 90 grade is A </h3>\n",
    "<h3>if % is greater then and equal to 70 and less then 80 grade is B </h3>\n",
    "<h3>if % is greater then and equal to 60 and less then 70 grade is C </h3>\n",
    "<h3>if % is less than 60 grade is FAIL </h3>\n"
   ]
  },
  {
   "cell_type": "code",
   "execution_count": 7,
   "metadata": {},
   "outputs": [
    {
     "name": "stdout",
     "output_type": "stream",
     "text": [
      "The percentage is =70\n",
      "The garde is B\n"
     ]
    }
   ],
   "source": [
    "per=float(input(\"The percentage is =\"))\n",
    "if per>=90 and per<=100 :\n",
    "    print(\"The garde is A+\")\n",
    "elif per>=80 and per<=90 :\n",
    "    print(\"The grade is A\")\n",
    "elif per>=70 and per<=80 :\n",
    "    print(\"The garde is B\")\n",
    "elif per>=60 and per<=70 :\n",
    "    print(\"The grade is C\")\n",
    "elif per<60 :\n",
    "    print(\"The percentage is\",per,\" which is below than 60 so grade is fail\")"
   ]
  },
  {
   "cell_type": "markdown",
   "metadata": {},
   "source": [
    "<h3>Print grade percentage and obtained marks</h3>"
   ]
  },
  {
   "cell_type": "code",
   "execution_count": 12,
   "metadata": {},
   "outputs": [
    {
     "name": "stdout",
     "output_type": "stream",
     "text": [
      "Enter your marks =800\n",
      "Enter total marks =1100\n",
      "Yours percentage is = 72.72727272727273 %\n",
      "The garde is B\n",
      "Obtained marks is =  800.0\n"
     ]
    }
   ],
   "source": [
    "x=float(input(\"Enter your marks =\"))\n",
    "y=float(input(\"Enter total marks =\"))\n",
    "per=(x/y)*100\n",
    "print(\"Yours percentage is =\",per,\"%\")\n",
    "if per>=90 and per<=100 :\n",
    "    print(\"The garde is A+\")\n",
    "elif per>=80 and per<=90 :\n",
    "    print(\"The grade is A\")\n",
    "elif per>=70 and per<=80 :\n",
    "    print(\"The garde is B\")\n",
    "elif per>=60 and per<=70 :\n",
    "    print(\"The grade is C\")\n",
    "elif per<60 :\n",
    "    print(\"The percentage is\",per,\" which is below than 60 so grade is fail\")\n",
    "print(\"Obtained marks is = \",x)     \n"
   ]
  }
 ],
 "metadata": {
  "kernelspec": {
   "display_name": "Python 3",
   "language": "python",
   "name": "python3"
  },
  "language_info": {
   "codemirror_mode": {
    "name": "ipython",
    "version": 3
   },
   "file_extension": ".py",
   "mimetype": "text/x-python",
   "name": "python",
   "nbconvert_exporter": "python",
   "pygments_lexer": "ipython3",
   "version": "3.7.1"
  }
 },
 "nbformat": 4,
 "nbformat_minor": 2
}
